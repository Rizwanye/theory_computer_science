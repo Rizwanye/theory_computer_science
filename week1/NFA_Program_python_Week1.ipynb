{
 "cells": [
  {
   "cell_type": "markdown",
   "id": "dbeca630",
   "metadata": {},
   "source": [
    "# NFA_Program_python_Week1\n",
    "NFA pathway is more ambigious than DFA in a way that it does not show the destination of some numbers, rather if the destination does not exist it will reject the input. In this example i tested the NFA of a function testing inputs accepting of only the numerical number 0. If it has any number starting with 1 it will reject it. Example drawing below: ![graph](graph1.jpg)"
   ]
  },
  {
   "cell_type": "code",
   "execution_count": 2,
   "id": "db255b2e",
   "metadata": {},
   "outputs": [],
   "source": [
    "from automata.fa.nfa import NFA"
   ]
  },
  {
   "cell_type": "code",
   "execution_count": 3,
   "id": "11912785",
   "metadata": {},
   "outputs": [],
   "source": [
    "nfa = NFA(\n",
    "    states={'a', 'b'},\n",
    "    input_symbols={'1', '0'},\n",
    "    transitions={\n",
    "        'a': {'0': {'b'}},\n",
    "        # Use '' as the key name for empty string (lambda/epsilon) transitions\n",
    "        'b': {'1': {'b'}, '0': {'b'}},\n",
    "    },\n",
    "    initial_state='a',\n",
    "    final_states={'b'}\n",
    ")"
   ]
  },
  {
   "cell_type": "code",
   "execution_count": 12,
   "id": "44bb18d4",
   "metadata": {},
   "outputs": [
    {
     "name": "stdout",
     "output_type": "stream",
     "text": [
      "rejected\n"
     ]
    }
   ],
   "source": [
    "if (nfa.accepts_input('1000')):\n",
    "    print(\"accepted\")\n",
    "else:\n",
    "    print(\"rejected\")"
   ]
  },
  {
   "cell_type": "code",
   "execution_count": 13,
   "id": "54d61492",
   "metadata": {},
   "outputs": [
    {
     "name": "stdout",
     "output_type": "stream",
     "text": [
      "accepted\n"
     ]
    }
   ],
   "source": [
    "if (nfa.accepts_input('0000')):\n",
    "    print(\"accepted\")\n",
    "else:\n",
    "    print(\"rejected\")"
   ]
  },
  {
   "cell_type": "code",
   "execution_count": 14,
   "id": "71592ea3",
   "metadata": {},
   "outputs": [
    {
     "name": "stdout",
     "output_type": "stream",
     "text": [
      "accepted\n"
     ]
    }
   ],
   "source": [
    "if (nfa.accepts_input('0100')):\n",
    "    print(\"accepted\")\n",
    "else:\n",
    "    print(\"rejected\")"
   ]
  },
  {
   "cell_type": "markdown",
   "id": "4d0630cc",
   "metadata": {},
   "source": [
    "From above we can see that the function accepts only inputs starting with 0, even when we didnt declare what happens to the path from a to 1 it does not matter, that it knows it is unaccepted. From above, we can conclude the following for NFA. "
   ]
  },
  {
   "cell_type": "code",
   "execution_count": null,
   "id": "63ff891e",
   "metadata": {},
   "outputs": [],
   "source": []
  }
 ],
 "metadata": {
  "kernelspec": {
   "display_name": "Python 3 (ipykernel)",
   "language": "python",
   "name": "python3"
  },
  "language_info": {
   "codemirror_mode": {
    "name": "ipython",
    "version": 3
   },
   "file_extension": ".py",
   "mimetype": "text/x-python",
   "name": "python",
   "nbconvert_exporter": "python",
   "pygments_lexer": "ipython3",
   "version": "3.11.4"
  }
 },
 "nbformat": 4,
 "nbformat_minor": 5
}
