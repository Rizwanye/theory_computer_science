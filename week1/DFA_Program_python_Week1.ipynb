{
 "cells": [
  {
   "cell_type": "markdown",
   "id": "90546a14",
   "metadata": {},
   "source": [
    "# Basic automata diary testing (week 1) \n",
    "In this notebook, it is my progress of learning DFA automata, from my understanding determistic finite automata allows one path for a specific input (unlike non-determistic models), so it is quite easy to understand. This type of model is greatly benefical as a foundation for those learning about machine learning processing of natural language. Below is my python code attempting to simulate a DFA, hopefully the code does not make your eyes teary!"
   ]
  },
  {
   "cell_type": "code",
   "execution_count": 11,
   "id": "5dc72e66",
   "metadata": {
    "scrolled": true
   },
   "outputs": [],
   "source": [
    "from automata.fa.dfa import DFA"
   ]
  },
  {
   "cell_type": "markdown",
   "id": "3da4e4af",
   "metadata": {},
   "source": [
    "![graph](graph.jpg)\n",
    "Above is what i am planning to build for the DFA. "
   ]
  },
  {
   "cell_type": "code",
   "execution_count": 8,
   "id": "4201c8cf",
   "metadata": {},
   "outputs": [],
   "source": [
    "# DFA which matches all binary strings ending in an odd number of '1's\n",
    "dfa = DFA(\n",
    "    states={'a','b','c','d'},\n",
    "    input_symbols={'0', '1'},\n",
    "    transitions={\n",
    "        'a': {'0': 'd', '1': 'b'},\n",
    "        'b': {'0': 'c', '1': 'b'},\n",
    "        'c': {'0': 'c', '1': 'b'},\n",
    "        'd': {'0': 'd', '1': 'd'}\n",
    "    },\n",
    "    initial_state='a',\n",
    "    final_states={'c'}\n",
    ")"
   ]
  },
  {
   "cell_type": "code",
   "execution_count": 12,
   "id": "d5cc3024",
   "metadata": {},
   "outputs": [
    {
     "name": "stdout",
     "output_type": "stream",
     "text": [
      "rejected\n"
     ]
    }
   ],
   "source": [
    "if (dfa.accepts_input('00')):\n",
    "    print(\"accepted\")\n",
    "else:\n",
    "    print(\"rejected\")    "
   ]
  },
  {
   "cell_type": "code",
   "execution_count": 13,
   "id": "4b4ad70d",
   "metadata": {},
   "outputs": [
    {
     "name": "stdout",
     "output_type": "stream",
     "text": [
      "accepted\n"
     ]
    }
   ],
   "source": [
    "if (dfa.accepts_input('100')):\n",
    "    print(\"accepted\")\n",
    "else:\n",
    "    print(\"rejected\")"
   ]
  },
  {
   "cell_type": "markdown",
   "id": "75a76c63",
   "metadata": {},
   "source": [
    "As shown the DFA accepts 100, and does not accept 00. The DFA purpose is to accept values starting with 1 and ending with zero. Mathematically we can say the following\n",
    "<br>\n",
    "L = {W | W starts with 1 and ends with 0 }\n",
    "<br>\n",
    "Q = {a,b,c,d} # set of all states\n",
    "<br>\n",
    "{ = 0, 1 # our inputs\n",
    "<br>\n",
    "q0 = a # starting state\n",
    "<br>\n",
    "f = {c # our final state"
   ]
  },
  {
   "cell_type": "code",
   "execution_count": null,
   "id": "4091ed99",
   "metadata": {},
   "outputs": [],
   "source": []
  }
 ],
 "metadata": {
  "kernelspec": {
   "display_name": "Python 3 (ipykernel)",
   "language": "python",
   "name": "python3"
  },
  "language_info": {
   "codemirror_mode": {
    "name": "ipython",
    "version": 3
   },
   "file_extension": ".py",
   "mimetype": "text/x-python",
   "name": "python",
   "nbconvert_exporter": "python",
   "pygments_lexer": "ipython3",
   "version": "3.11.4"
  }
 },
 "nbformat": 4,
 "nbformat_minor": 5
}
