{
 "cells": [
  {
   "cell_type": "markdown",
   "id": "056eaf88",
   "metadata": {},
   "source": [
    "# Pure code python DFA implementation\n",
    "In this example here, i will try implement a DFA with pure python code no module support. hopefully it is correct. "
   ]
  },
  {
   "cell_type": "markdown",
   "id": "69a55a43",
   "metadata": {},
   "source": [
    "Let’s build a DFA to recognize the language\n",
    "A = {w ∣ w contains exactly one or three 0} with the alphabet Σ = {0, 1}\n",
    "So we want to check if the string contains exactly one 0 or three 0's. Anything outside this classifcation, it will be rejected. "
   ]
  },
  {
   "cell_type": "markdown",
   "id": "c4531940",
   "metadata": {},
   "source": [
    "## Example 1 "
   ]
  },
  {
   "cell_type": "code",
   "execution_count": 19,
   "id": "1a5f41b5",
   "metadata": {},
   "outputs": [],
   "source": [
    "numbers = '000'"
   ]
  },
  {
   "cell_type": "code",
   "execution_count": 21,
   "id": "c786015e",
   "metadata": {
    "scrolled": true
   },
   "outputs": [
    {
     "name": "stdout",
     "output_type": "stream",
     "text": [
      " ACCEPT \n"
     ]
    }
   ],
   "source": [
    "count = 0 # initation state \n",
    "for c in numbers: # for loop iterates over the \"numbers\" functions \n",
    "    if c == '0':\n",
    "        count += 1\n",
    "if count == 1 or count == 3: #our acceptance states \n",
    "    print (\" ACCEPT \")\n",
    "else :\n",
    "    print (\" REJECT \")"
   ]
  },
  {
   "cell_type": "markdown",
   "id": "1ef0662d",
   "metadata": {},
   "source": [
    "In a way we can see that the python code, is somewhat similar to the DFA chart below. of course depending on how you percieve this cart, you might think it is nfa aswell since, we did not mention about the number 1 and etc. But from below b and d are acceptance states as it repreents zero with 1 count and 3 counts"
   ]
  },
  {
   "attachments": {},
   "cell_type": "markdown",
   "id": "3bacb5e5",
   "metadata": {},
   "source": [
    "![graph2.jpg](graph2.jpg)"
   ]
  },
  {
   "cell_type": "markdown",
   "id": "ce0f371b",
   "metadata": {},
   "source": [
    "Now, this one is quite straight foward, I'm going to try do a more complex operation to test my will. Going back to my previous file, i am going to do this one here. ![graph.jpg](graph.jpg). Now, this one is quite complex, "
   ]
  },
  {
   "cell_type": "markdown",
   "id": "954b80d4",
   "metadata": {},
   "source": [
    "From the picture, we know the following, we want the value to start at 1 and end with zero. So in our python code, if we detect the first instance as 0 we immediately throw it away. Secondly, the values can have an infite value or combinations after starting with 1. This means we can not just continously create all the combinations we think of using some type of loop."
   ]
  },
  {
   "cell_type": "markdown",
   "id": "ca09a6d8",
   "metadata": {},
   "source": [
    "To makes things easier on myself, the states a = 0, b = 1, c 2, d = 3 "
   ]
  },
  {
   "cell_type": "code",
   "execution_count": 52,
   "id": "bd1ecfb2",
   "metadata": {},
   "outputs": [
    {
     "name": "stdout",
     "output_type": "stream",
     "text": [
      "ACCEPTED\n"
     ]
    }
   ],
   "source": [
    "def start(c): #this is our start state \n",
    "    if c == 1:\n",
    "        dfa = 1\n",
    "    elif c == 0:\n",
    "        dfa = 3\n",
    "    else:\n",
    "        dfa = -1\n",
    "    return dfa\n",
    "\n",
    "def state1(c): # second state b \n",
    "    if c == 1:\n",
    "        dfa = 1\n",
    "    elif c == 0:\n",
    "        dfa = 2\n",
    "    else:\n",
    "        dfa = -1\n",
    "    return dfa\n",
    "\n",
    "def state2(c): # third state state c acceptance function\n",
    "    if c == 0:\n",
    "        dfa = 2\n",
    "    elif c == 1:\n",
    "        dfa = 1\n",
    "    else:\n",
    "        dfa = -1\n",
    "    return dfa\n",
    "\n",
    "def state3(c): # last state D decline function\n",
    "    if c == 1 or c == 0:\n",
    "        dfa = 3\n",
    "    else:\n",
    "        dfa = -1\n",
    "    return dfa\n",
    "\n",
    "def isAccepted(s): #this is our declaration of transition\n",
    "    dfa = 0 # we wabt to start with dfa 0 because of initial state\n",
    "    for char in s: #for loop to iterate over our numbers\n",
    "        if dfa == 0: #inital start state\n",
    "            dfa = start(int(char)) #it will launch this code so our 1101010 becomes 101010\n",
    "        elif dfa == 1: #now we are on second state b with 101010\n",
    "            dfa = state1(int(char)) #we run this, which is 01010 and still stuck on dfa = 1 (b state), run again we go to c\n",
    "        elif dfa == 2: # at state c we have now 01010\n",
    "            dfa = state2(int(char)) # we run this state c ad we have 1010, which moves us to dfa = 1 and so on and so forth\n",
    "        elif dfa == 3: # this is state d, only hapens if we start with a value 0\n",
    "            dfa = state3(int(char))\n",
    "        else:\n",
    "            0\n",
    "    if (dfa == 2): # now this is our final function, if we still end at state 2 which is C we win the game\n",
    "        return 1 # return true \n",
    "    else: \n",
    "        return 0 # return false\n",
    "\n",
    "# Driver code\n",
    "if __name__ == \"__main__\":\n",
    "    String = \"1101010\"  # Make sure to use a string here\n",
    "    if (isAccepted(String)):\n",
    "        print(\"ACCEPTED\")\n",
    "    else:\n",
    "        print(\"NOT ACCEPTED\")"
   ]
  },
  {
   "cell_type": "markdown",
   "id": "d411207e",
   "metadata": {},
   "source": [
    "You like my code? let me know your appreciation! ![austin.jpg](austin.jpg)"
   ]
  }
 ],
 "metadata": {
  "kernelspec": {
   "display_name": "Python 3 (ipykernel)",
   "language": "python",
   "name": "python3"
  },
  "language_info": {
   "codemirror_mode": {
    "name": "ipython",
    "version": 3
   },
   "file_extension": ".py",
   "mimetype": "text/x-python",
   "name": "python",
   "nbconvert_exporter": "python",
   "pygments_lexer": "ipython3",
   "version": "3.11.4"
  }
 },
 "nbformat": 4,
 "nbformat_minor": 5
}
