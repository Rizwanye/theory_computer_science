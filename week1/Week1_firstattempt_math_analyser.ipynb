{
 "cells": [
  {
   "cell_type": "markdown",
   "id": "cbf81378",
   "metadata": {},
   "source": [
    "# Attempt math analsyer\n",
    "this is an attempt on building a mathematical analyser using basic python programming, it needs to have the following conditions for the analyser, hopefully I will make this work. Task <br> Implement a deterministic finite automaton that processes arithmetic statements and produces a sequence of tokens."
   ]
  },
  {
   "cell_type": "markdown",
   "id": "1a4fe73a",
   "metadata": {},
   "source": [
    "For example, consider the arithmetic expression \"3 + 5 * 2\". Producing a sequence of tokens for this expression would involve breaking it down into the following tokens:\n",
    "\n",
    "Token: IntegerLiteral, Value: 3\n",
    "Token: PlusOperator, Value: +\n",
    "Token: IntegerLiteral, Value: 5\n",
    "Token: MultiplyOperator, Value: *\n",
    "Token: IntegerLiteral, Value: 2"
   ]
  },
  {
   "cell_type": "code",
   "execution_count": 3,
   "id": "ecb91034",
   "metadata": {},
   "outputs": [],
   "source": [
    "integer = ['1', '2','3','4','5','6','7','8','9','0']\n",
    "maths = ['+','-','*','/','%','==','!=','>','<','>=','<=','&&','||','!','&','|','^','~','>>','<<','=','+=','-=','*=']\n",
    "specialsymbol = ['@','#','$','_','!']\n",
    "separator = [',',':',';','\\n','\\t','{','}','(',')','[',']']"
   ]
  },
  {
   "cell_type": "code",
   "execution_count": 15,
   "id": "70826d20",
   "metadata": {},
   "outputs": [
    {
     "name": "stdout",
     "output_type": "stream",
     "text": [
      "integer --> 13\n",
      "maths --> +\n",
      "integer --> 5\n",
      "maths --> +\n",
      "integer --> 2\n",
      "maths --> *\n",
      "integer --> 13\n"
     ]
    }
   ],
   "source": [
    "#assuming the input would be text input to make things easier...\n",
    "test = \"13+5 + 2 * 13\"\n",
    "splitCode = []\n",
    "current_token = ''\n",
    "\n",
    "for char in test:\n",
    "    if char in integer:\n",
    "        current_token += char #if number exists add it into our token\n",
    "    elif char in maths or char in specialsymbol or char in separator: \n",
    "        if current_token:\n",
    "            splitCode.append(current_token)\n",
    "            current_token = ''\n",
    "        splitCode.append(char)\n",
    "if current_token:\n",
    "    splitCode.append(current_token)\n",
    "\n",
    "for token in splitCode:\n",
    "    if token.isdigit():  # Check if the token is a multi-digit number\n",
    "        print(\"integer -->\", token)\n",
    "    elif token in maths:\n",
    "        print(\"maths -->\", token)\n",
    "    elif token in specialsymbol:\n",
    "        print(\"special -->\", token)\n",
    "    elif token in separator:\n",
    "        print(\"Separator -->\", token)\n",
    "    else:\n",
    "        print(\"Unknown -->\", token)  # Handle unrecognized tokens"
   ]
  }
 ],
 "metadata": {
  "kernelspec": {
   "display_name": "Python 3 (ipykernel)",
   "language": "python",
   "name": "python3"
  },
  "language_info": {
   "codemirror_mode": {
    "name": "ipython",
    "version": 3
   },
   "file_extension": ".py",
   "mimetype": "text/x-python",
   "name": "python",
   "nbconvert_exporter": "python",
   "pygments_lexer": "ipython3",
   "version": "3.11.4"
  }
 },
 "nbformat": 4,
 "nbformat_minor": 5
}
